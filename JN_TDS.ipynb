{
  "metadata": {
    "kernelspec": {
      "name": "python",
      "display_name": "Pyolite",
      "language": "python"
    },
    "language_info": {
      "codemirror_mode": {
        "name": "python",
        "version": 3
      },
      "file_extension": ".py",
      "mimetype": "text/x-python",
      "name": "python",
      "nbconvert_exporter": "python",
      "pygments_lexer": "ipython3",
      "version": "3.8"
    }
  },
  "nbformat_minor": 4,
  "nbformat": 4,
  "cells": [
    {
      "cell_type": "markdown",
      "source": "<center>\n    <img src=\"https://cf-courses-data.s3.us.cloud-object-storage.appdomain.cloud/IBMDeveloperSkillsNetwork-DS0105EN-SkillsNetwork/labs/Module2/images/SN_web_lightmode.png\" width=\"300\" alt=\"cognitiveclass.ai logo\"  />\n</center>\n",
      "metadata": {}
    },
    {
      "cell_type": "markdown",
      "source": "# My Jupyter Notebook on IBM Watson Studio\n",
      "metadata": {}
    },
    {
      "cell_type": "markdown",
      "source": "**My name in Pablo Vicent, currently I'm a student and I'd like to become a Data Scientist**",
      "metadata": {}
    },
    {
      "cell_type": "markdown",
      "source": "*I'm interested in Data Science because I find it really interesting. I'm a very curious person by nature and last year I worked in a job with a similar role to a Data Scientist, and that's when I fell in love with this job.*",
      "metadata": {}
    },
    {
      "cell_type": "markdown",
      "source": "### My code in cell 5 ask what your name is",
      "metadata": {}
    },
    {
      "cell_type": "code",
      "source": "print(\"What's your name?\")\nname = input()\nprint(f\"Nice to meet you, {name}\")",
      "metadata": {
        "trusted": true
      },
      "execution_count": 1,
      "outputs": [
        {
          "name": "stdout",
          "text": "What's your name?\nNice to meet you, <Future pending>\n",
          "output_type": "stream"
        },
        {
          "output_type": "stream",
          "name": "stdin",
          "text": " Pablo\n"
        }
      ]
    },
    {
      "cell_type": "markdown",
      "source": "### Hyperlink\n<a href=\"https://dataplatform.cloud.ibm.com/gallery\">IBM Cloud Gallery</a>\n### Table\n| This | is   |\n|------|------|\n|   a  | table|\n### Bulleted list\n- One\n- Two\n- Three\n",
      "metadata": {}
    }
  ]
}